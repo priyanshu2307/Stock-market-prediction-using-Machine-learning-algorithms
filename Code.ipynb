{
 "cells": [
  {
   "cell_type": "code",
   "execution_count": 1,
   "metadata": {},
   "outputs": [],
   "source": [
    "#Importing the Libraries\n",
    "import os\n",
    "import pandas as pd\n",
    "import numpy as np\n",
    "%matplotlib inline\n",
    "import matplotlib. pyplot as plt\n",
    "from sklearn.model_selection import TimeSeriesSplit"
   ]
  },
  {
   "cell_type": "code",
   "execution_count": 2,
   "metadata": {},
   "outputs": [
    {
     "data": {
      "text/html": [
       "<div>\n",
       "<style scoped>\n",
       "    .dataframe tbody tr th:only-of-type {\n",
       "        vertical-align: middle;\n",
       "    }\n",
       "\n",
       "    .dataframe tbody tr th {\n",
       "        vertical-align: top;\n",
       "    }\n",
       "\n",
       "    .dataframe thead th {\n",
       "        text-align: right;\n",
       "    }\n",
       "</style>\n",
       "<table border=\"1\" class=\"dataframe\">\n",
       "  <thead>\n",
       "    <tr style=\"text-align: right;\">\n",
       "      <th></th>\n",
       "      <th>Date</th>\n",
       "      <th>Open</th>\n",
       "      <th>High</th>\n",
       "      <th>Low</th>\n",
       "      <th>Close</th>\n",
       "      <th>Adj Close</th>\n",
       "      <th>Volume</th>\n",
       "    </tr>\n",
       "  </thead>\n",
       "  <tbody>\n",
       "    <tr>\n",
       "      <th>0</th>\n",
       "      <td>2010-01-04</td>\n",
       "      <td>7.622500</td>\n",
       "      <td>7.660714</td>\n",
       "      <td>7.585000</td>\n",
       "      <td>7.643214</td>\n",
       "      <td>6.553025</td>\n",
       "      <td>493729600</td>\n",
       "    </tr>\n",
       "    <tr>\n",
       "      <th>1</th>\n",
       "      <td>2010-01-05</td>\n",
       "      <td>7.664286</td>\n",
       "      <td>7.699643</td>\n",
       "      <td>7.616071</td>\n",
       "      <td>7.656429</td>\n",
       "      <td>6.564355</td>\n",
       "      <td>601904800</td>\n",
       "    </tr>\n",
       "    <tr>\n",
       "      <th>2</th>\n",
       "      <td>2010-01-06</td>\n",
       "      <td>7.656429</td>\n",
       "      <td>7.686786</td>\n",
       "      <td>7.526786</td>\n",
       "      <td>7.534643</td>\n",
       "      <td>6.459939</td>\n",
       "      <td>552160000</td>\n",
       "    </tr>\n",
       "    <tr>\n",
       "      <th>3</th>\n",
       "      <td>2010-01-07</td>\n",
       "      <td>7.562500</td>\n",
       "      <td>7.571429</td>\n",
       "      <td>7.466071</td>\n",
       "      <td>7.520714</td>\n",
       "      <td>6.447999</td>\n",
       "      <td>477131200</td>\n",
       "    </tr>\n",
       "    <tr>\n",
       "      <th>4</th>\n",
       "      <td>2010-01-08</td>\n",
       "      <td>7.510714</td>\n",
       "      <td>7.571429</td>\n",
       "      <td>7.466429</td>\n",
       "      <td>7.570714</td>\n",
       "      <td>6.490865</td>\n",
       "      <td>447610800</td>\n",
       "    </tr>\n",
       "  </tbody>\n",
       "</table>\n",
       "</div>"
      ],
      "text/plain": [
       "         Date      Open      High       Low     Close  Adj Close     Volume\n",
       "0  2010-01-04  7.622500  7.660714  7.585000  7.643214   6.553025  493729600\n",
       "1  2010-01-05  7.664286  7.699643  7.616071  7.656429   6.564355  601904800\n",
       "2  2010-01-06  7.656429  7.686786  7.526786  7.534643   6.459939  552160000\n",
       "3  2010-01-07  7.562500  7.571429  7.466071  7.520714   6.447999  477131200\n",
       "4  2010-01-08  7.510714  7.571429  7.466429  7.570714   6.490865  447610800"
      ]
     },
     "execution_count": 2,
     "metadata": {},
     "output_type": "execute_result"
    }
   ],
   "source": [
    "df = pd.read_csv(\"AAPL.csv\")\n",
    "df.head()"
   ]
  },
  {
   "cell_type": "code",
   "execution_count": 3,
   "metadata": {},
   "outputs": [
    {
     "name": "stdout",
     "output_type": "stream",
     "text": [
      "Dataframe Shape:  (2999, 7)\n"
     ]
    }
   ],
   "source": [
    "#Print the shape of Dataframe \n",
    "print(\"Dataframe Shape: \", df.shape)"
   ]
  },
  {
   "cell_type": "code",
   "execution_count": 4,
   "metadata": {},
   "outputs": [
    {
     "data": {
      "text/plain": [
       "Date         0\n",
       "Open         0\n",
       "High         0\n",
       "Low          0\n",
       "Close        0\n",
       "Adj Close    0\n",
       "Volume       0\n",
       "dtype: int64"
      ]
     },
     "execution_count": 4,
     "metadata": {},
     "output_type": "execute_result"
    }
   ],
   "source": [
    "#Check for null values\n",
    "df.isnull().sum()"
   ]
  },
  {
   "cell_type": "code",
   "execution_count": 6,
   "metadata": {},
   "outputs": [],
   "source": [
    "#setting index as date values\n",
    "df['Date'] = pd.to_datetime(df.Date,format='%Y-%m-%d')\n",
    "df.index = df['Date']\n",
    "\n",
    "#sorting\n",
    "data = df.sort_index(ascending=True, axis=0)\n",
    "\n",
    "#creating a separate dataset\n",
    "new_data = pd.DataFrame(index=range(0,len(df)),columns=['Date', 'Close'])\n",
    "\n",
    "for i in range(0,len(data)):\n",
    "     new_data['Date'][i] = data['Date'][i]\n",
    "     new_data['Close'][i] = data['Close'][i]"
   ]
  },
  {
   "cell_type": "code",
   "execution_count": 7,
   "metadata": {},
   "outputs": [],
   "source": [
    "#create features\n",
    "from fastai.tabular.core import add_datepart\n",
    "add_datepart(new_data, 'Date')\n",
    "new_data.drop('Elapsed', axis=1, inplace=True)  #elapsed will be the time stamp"
   ]
  },
  {
   "cell_type": "code",
   "execution_count": 8,
   "metadata": {
    "scrolled": true
   },
   "outputs": [],
   "source": [
    "pd.options.mode.chained_assignment = None  # default='warn'\n",
    "new_data['mon_fri'] = 0\n",
    "for i in range(0,len(new_data)):\n",
    "    if (new_data['Dayofweek'][i] == 0 or new_data['Dayofweek'][i] == 4):\n",
    "        new_data['mon_fri'][i] = 1\n",
    "    else:\n",
    "        new_data['mon_fri'][i] = 0"
   ]
  },
  {
   "cell_type": "code",
   "execution_count": 9,
   "metadata": {},
   "outputs": [],
   "source": [
    "#split into train and validation\n",
    "train = new_data[:2770]\n",
    "valid = new_data[2770:]\n",
    "\n",
    "x_train = train.drop('Close', axis=1)\n",
    "y_train = train['Close']\n",
    "x_valid = valid.drop('Close', axis=1)\n",
    "y_valid = valid['Close']"
   ]
  },
  {
   "cell_type": "markdown",
   "metadata": {},
   "source": [
    "# Linear Regression"
   ]
  },
  {
   "cell_type": "code",
   "execution_count": 10,
   "metadata": {},
   "outputs": [
    {
     "data": {
      "text/plain": [
       "67.7754538450982"
      ]
     },
     "execution_count": 10,
     "metadata": {},
     "output_type": "execute_result"
    }
   ],
   "source": [
    "#implement linear regression   \n",
    "np.float = float   \n",
    "np.object = object \n",
    "#these 2 are explicitly defined as numpy version>1.23.5 doesn't have float in it and i've 1.24.0\n",
    "from sklearn.linear_model import LinearRegression\n",
    "model = LinearRegression()\n",
    "model.fit(x_train,y_train)\n",
    "\n",
    "\n",
    "#make predictions and find the rmse\n",
    "preds = model.predict(x_valid)\n",
    "rms=np.sqrt(np.mean(np.power((np.array(y_valid)-np.array(preds)),2)))\n",
    "rms"
   ]
  },
  {
   "cell_type": "code",
   "execution_count": 11,
   "metadata": {},
   "outputs": [
    {
     "data": {
      "text/plain": [
       "[<matplotlib.lines.Line2D at 0x1f4944effd0>,\n",
       " <matplotlib.lines.Line2D at 0x1f4944e4610>]"
      ]
     },
     "execution_count": 11,
     "metadata": {},
     "output_type": "execute_result"
    },
    {
     "data": {
      "image/png": "[encoded data removed]",
      "text/plain": [
       "<Figure size 432x288 with 1 Axes>"
      ]
     },
     "metadata": {
      "needs_background": "light"
     },
     "output_type": "display_data"
    }
   ],
   "source": [
    "#plot\n",
    "valid['Predictions'] = 0\n",
    "valid['Predictions'] = preds\n",
    "\n",
    "valid.index = new_data[2770:].index\n",
    "train.index = new_data[:2770].index\n",
    "\n",
    "plt.plot(train['Close'])\n",
    "plt.plot(valid[['Close', 'Predictions']])"
   ]
  },
  {
   "cell_type": "markdown",
   "metadata": {},
   "source": [
    "# KNN"
   ]
  },
  {
   "cell_type": "code",
   "execution_count": 12,
   "metadata": {},
   "outputs": [],
   "source": [
    "#importing libraries\n",
    "from sklearn import neighbors\n",
    "from sklearn.model_selection import GridSearchCV\n",
    "from sklearn.preprocessing import MinMaxScaler\n",
    "scaler = MinMaxScaler(feature_range=(0, 1))"
   ]
  },
  {
   "cell_type": "code",
   "execution_count": 13,
   "metadata": {},
   "outputs": [],
   "source": [
    "#scaling data\n",
    "np.int=int\n",
    "np.bool=bool\n",
    "x_train_scaled = scaler.fit_transform(x_train)\n",
    "x_train = pd.DataFrame(x_train_scaled)\n",
    "x_valid_scaled = scaler.fit_transform(x_valid)\n",
    "x_valid = pd.DataFrame(x_valid_scaled)\n",
    "\n",
    "#using gridsearch to find the best parameter\n",
    "params = {'n_neighbors':[2,3,4,5,6,7,8,9]}\n",
    "knn = neighbors.KNeighborsRegressor()\n",
    "model = GridSearchCV(knn, params, cv=5)\n",
    "\n",
    "#fit the model and make predictions\n",
    "model.fit(x_train,y_train)\n",
    "preds = model.predict(x_valid)"
   ]
  },
  {
   "cell_type": "code",
   "execution_count": 14,
   "metadata": {},
   "outputs": [
    {
     "data": {
      "text/plain": [
       "125.1025536376903"
      ]
     },
     "execution_count": 14,
     "metadata": {},
     "output_type": "execute_result"
    }
   ],
   "source": [
    "#scaling data\n",
    "x_train_scaled = scaler.fit_transform(x_train)\n",
    "x_train = pd.DataFrame(x_train_scaled)\n",
    "x_valid_scaled = scaler.fit_transform(x_valid)\n",
    "x_valid = pd.DataFrame(x_valid_scaled)\n",
    "\n",
    "#using gridsearch to find the best parameter\n",
    "params = {'n_neighbors':[2,3,4,5,6,7,8,9]}\n",
    "knn = neighbors.KNeighborsRegressor()\n",
    "model = GridSearchCV(knn, params, cv=5)\n",
    "\n",
    "#fit the model and make predictions\n",
    "model.fit(x_train,y_train)\n",
    "preds = model.predict(x_valid)\n",
    "\n",
    "#rmse\n",
    "rms=np.sqrt(np.mean(np.power((np.array(y_valid)-np.array(preds)),2)))\n",
    "rms\n"
   ]
  },
  {
   "cell_type": "code",
   "execution_count": 15,
   "metadata": {},
   "outputs": [
    {
     "data": {
      "text/plain": [
       "[<matplotlib.lines.Line2D at 0x1f4b27d8b50>]"
      ]
     },
     "execution_count": 15,
     "metadata": {},
     "output_type": "execute_result"
    },
    {
     "data": {
      "image/png": "[encoded data removed]",
      "text/plain": [
       "<Figure size 432x288 with 1 Axes>"
      ]
     },
     "metadata": {
      "needs_background": "light"
     },
     "output_type": "display_data"
    }
   ],
   "source": [
    "#plot\n",
    "valid['Predictions'] = 0\n",
    "valid['Predictions'] = preds\n",
    "plt.plot(valid[['Close', 'Predictions']])\n",
    "plt.plot(train['Close'])"
   ]
  },
  {
   "cell_type": "markdown",
   "metadata": {},
   "source": [
    "<!-- # AUTO ARIMA -->"
   ]
  },
  {
   "cell_type": "markdown",
   "metadata": {},
   "source": [
    "# LSTM"
   ]
  },
  {
   "cell_type": "code",
   "execution_count": 16,
   "metadata": {},
   "outputs": [],
   "source": [
    "#importing required libraries\n",
    "from sklearn.preprocessing import MinMaxScaler\n",
    "from keras.models import Sequential\n",
    "from keras.layers import Dense, Dropout, LSTM\n",
    "\n",
    "#creating dataframe\n",
    "data = df.sort_index(ascending=True, axis=0)\n",
    "new_data = pd.DataFrame(index=range(0,len(df)),columns=['Date', 'Close'])\n",
    "for i in range(0,len(data)):\n",
    "    new_data['Date'][i] = data['Date'][i]\n",
    "    new_data['Close'][i] = data['Close'][i]\n",
    "\n",
    "#setting index\n",
    "new_data.index = new_data.Date\n",
    "new_data.drop('Date', axis=1, inplace=True)\n",
    "\n",
    "#creating train and test sets\n",
    "dataset = new_data.values\n",
    "\n",
    "train = dataset[0:2770,:]\n",
    "valid = dataset[2770:,:]\n"
   ]
  },
  {
   "cell_type": "code",
   "execution_count": 17,
   "metadata": {},
   "outputs": [],
   "source": [
    "#converting dataset into x_train and y_train\n",
    "scaler = MinMaxScaler(feature_range=(0, 1))\n",
    "scaled_data = scaler.fit_transform(dataset)\n",
    "\n",
    "x_train, y_train = [], []\n",
    "for i in range(60,len(train)):\n",
    "    x_train.append(scaled_data[i-60:i,0])\n",
    "    y_train.append(scaled_data[i,0])\n",
    "x_train, y_train = np.array(x_train), np.array(y_train)\n",
    "\n",
    "x_train = np.reshape(x_train, (x_train.shape[0],x_train.shape[1],1))\n",
    "\n"
   ]
  },
  {
   "cell_type": "code",
   "execution_count": 20,
   "metadata": {},
   "outputs": [
    {
     "name": "stdout",
     "output_type": "stream",
     "text": [
      "Epoch 1/100\n",
      "339/339 [==============================] - 9s 19ms/step - loss: 1.3241e-04\n",
      "Epoch 2/100\n",
      "339/339 [==============================] - 6s 19ms/step - loss: 0.0072\n",
      "Epoch 3/100\n",
      "339/339 [==============================] - 6s 18ms/step - loss: 0.0049\n",
      "Epoch 4/100\n",
      "339/339 [==============================] - 5s 16ms/step - loss: 0.0025\n",
      "Epoch 5/100\n",
      "339/339 [==============================] - 6s 18ms/step - loss: 6.3034e-04\n",
      "Epoch 6/100\n",
      "339/339 [==============================] - 6s 19ms/step - loss: 1.3818e-04\n",
      "Epoch 7/100\n",
      "339/339 [==============================] - 9s 26ms/step - loss: 3.1537e-04\n",
      "Epoch 8/100\n",
      "339/339 [==============================] - 14s 43ms/step - loss: 1.3792e-04\n",
      "Epoch 9/100\n",
      "339/339 [==============================] - 9s 27ms/step - loss: 1.1882e-04\n",
      "Epoch 10/100\n",
      "339/339 [==============================] - 7s 20ms/step - loss: 4.4165e-05\n",
      "Epoch 11/100\n",
      "339/339 [==============================] - 6s 18ms/step - loss: 9.9657e-05\n",
      "Epoch 12/100\n",
      "339/339 [==============================] - 6s 18ms/step - loss: 7.9820e-05\n",
      "Epoch 13/100\n",
      "339/339 [==============================] - 6s 19ms/step - loss: 6.5120e-05\n",
      "Epoch 14/100\n",
      "339/339 [==============================] - 7s 21ms/step - loss: 9.2392e-05\n",
      "Epoch 15/100\n",
      "339/339 [==============================] - 6s 18ms/step - loss: 9.1497e-05\n",
      "Epoch 16/100\n",
      "339/339 [==============================] - 6s 19ms/step - loss: 9.4316e-05\n",
      "Epoch 17/100\n",
      "339/339 [==============================] - 6s 19ms/step - loss: 1.1508e-04\n",
      "Epoch 18/100\n",
      "339/339 [==============================] - 7s 20ms/step - loss: 7.1229e-05\n",
      "Epoch 19/100\n",
      "339/339 [==============================] - 8s 22ms/step - loss: 9.0950e-05\n",
      "Epoch 20/100\n",
      "339/339 [==============================] - 7s 21ms/step - loss: 1.0568e-04\n",
      "Epoch 21/100\n",
      "339/339 [==============================] - 8s 23ms/step - loss: 1.2533e-04\n",
      "Epoch 22/100\n",
      "339/339 [==============================] - 8s 24ms/step - loss: 1.7857e-04\n",
      "Epoch 23/100\n",
      "339/339 [==============================] - 7s 20ms/step - loss: 1.1663e-04\n",
      "Epoch 24/100\n",
      "339/339 [==============================] - 7s 20ms/step - loss: 1.1435e-04\n",
      "Epoch 25/100\n",
      "339/339 [==============================] - 7s 20ms/step - loss: 9.6045e-05\n",
      "Epoch 26/100\n",
      "339/339 [==============================] - 6s 18ms/step - loss: 1.0546e-04\n",
      "Epoch 27/100\n",
      "339/339 [==============================] - 7s 20ms/step - loss: 1.1296e-04\n",
      "Epoch 28/100\n",
      "339/339 [==============================] - 6s 19ms/step - loss: 1.0472e-04\n",
      "Epoch 29/100\n",
      "339/339 [==============================] - 6s 19ms/step - loss: 1.0274e-04\n",
      "Epoch 30/100\n",
      "339/339 [==============================] - 6s 19ms/step - loss: 9.5420e-05\n",
      "Epoch 31/100\n",
      "339/339 [==============================] - 7s 22ms/step - loss: 8.9446e-05\n",
      "Epoch 32/100\n",
      "339/339 [==============================] - 6s 19ms/step - loss: 9.4159e-05\n",
      "Epoch 33/100\n",
      "339/339 [==============================] - 6s 19ms/step - loss: 8.2450e-05\n",
      "Epoch 34/100\n",
      "339/339 [==============================] - 8s 24ms/step - loss: 8.2689e-05\n",
      "Epoch 35/100\n",
      "339/339 [==============================] - 7s 20ms/step - loss: 7.3873e-05\n",
      "Epoch 36/100\n",
      "339/339 [==============================] - 7s 22ms/step - loss: 6.9477e-05\n",
      "Epoch 37/100\n",
      "339/339 [==============================] - 8s 24ms/step - loss: 6.2323e-05\n",
      "Epoch 38/100\n",
      "339/339 [==============================] - 8s 23ms/step - loss: 6.9084e-05\n",
      "Epoch 39/100\n",
      "339/339 [==============================] - 6s 18ms/step - loss: 6.3915e-05\n",
      "Epoch 40/100\n",
      "339/339 [==============================] - 6s 19ms/step - loss: 6.3927e-05\n",
      "Epoch 41/100\n",
      "339/339 [==============================] - 7s 20ms/step - loss: 6.6374e-05\n",
      "Epoch 42/100\n",
      "339/339 [==============================] - 6s 18ms/step - loss: 7.4539e-05\n",
      "Epoch 43/100\n",
      "339/339 [==============================] - 6s 17ms/step - loss: 6.3679e-05\n",
      "Epoch 44/100\n",
      "339/339 [==============================] - 6s 17ms/step - loss: 5.7576e-05\n",
      "Epoch 45/100\n",
      "339/339 [==============================] - 7s 20ms/step - loss: 7.6034e-05\n",
      "Epoch 46/100\n",
      "339/339 [==============================] - 7s 21ms/step - loss: 6.2147e-05\n",
      "Epoch 47/100\n",
      "339/339 [==============================] - 7s 21ms/step - loss: 7.1619e-05\n",
      "Epoch 48/100\n",
      "339/339 [==============================] - 7s 20ms/step - loss: 5.8210e-05\n",
      "Epoch 49/100\n",
      "339/339 [==============================] - 6s 18ms/step - loss: 6.0394e-05\n",
      "Epoch 50/100\n",
      "339/339 [==============================] - 8s 23ms/step - loss: 7.3463e-05\n",
      "Epoch 51/100\n",
      "339/339 [==============================] - 8s 24ms/step - loss: 7.2187e-05\n",
      "Epoch 52/100\n",
      "339/339 [==============================] - 8s 24ms/step - loss: 6.9684e-05\n",
      "Epoch 53/100\n",
      "339/339 [==============================] - 8s 23ms/step - loss: 7.0799e-05\n",
      "Epoch 54/100\n",
      "339/339 [==============================] - 8s 24ms/step - loss: 4.5236e-05\n",
      "Epoch 55/100\n",
      "339/339 [==============================] - 8s 24ms/step - loss: 4.0329e-05\n",
      "Epoch 56/100\n",
      "339/339 [==============================] - 8s 24ms/step - loss: 5.4717e-05: 0s - loss: 5.4728e-\n",
      "Epoch 57/100\n",
      "339/339 [==============================] - 8s 23ms/step - loss: 5.2421e-05\n",
      "Epoch 58/100\n",
      "339/339 [==============================] - 7s 20ms/step - loss: 4.9136e-05\n",
      "Epoch 59/100\n",
      "339/339 [==============================] - 6s 18ms/step - loss: 4.5157e-05\n",
      "Epoch 60/100\n",
      "339/339 [==============================] - 6s 18ms/step - loss: 5.9871e-05\n",
      "Epoch 61/100\n",
      "339/339 [==============================] - 6s 16ms/step - loss: 4.7142e-05\n",
      "Epoch 62/100\n",
      "339/339 [==============================] - 6s 18ms/step - loss: 5.4280e-05\n",
      "Epoch 63/100\n",
      "339/339 [==============================] - 6s 18ms/step - loss: 4.4434e-05: 0s - lo\n",
      "Epoch 64/100\n",
      "339/339 [==============================] - 6s 19ms/step - loss: 4.6871e-05\n",
      "Epoch 65/100\n",
      "339/339 [==============================] - 6s 18ms/step - loss: 4.2834e-05: 0s -\n",
      "Epoch 66/100\n",
      "339/339 [==============================] - 6s 18ms/step - loss: 4.4479e-05\n",
      "Epoch 67/100\n",
      "339/339 [==============================] - 6s 19ms/step - loss: 4.3965e-05\n",
      "Epoch 68/100\n",
      "339/339 [==============================] - 6s 19ms/step - loss: 4.2306e-05\n",
      "Epoch 69/100\n",
      "339/339 [==============================] - 6s 18ms/step - loss: 3.4987e-05\n",
      "Epoch 70/100\n",
      "339/339 [==============================] - 6s 18ms/step - loss: 9.7050e-05\n",
      "Epoch 71/100\n",
      "339/339 [==============================] - 6s 18ms/step - loss: 1.1676e-04\n",
      "Epoch 72/100\n",
      "339/339 [==============================] - 6s 18ms/step - loss: 5.3167e-05\n",
      "Epoch 73/100\n",
      "339/339 [==============================] - 6s 18ms/step - loss: 3.1112e-05: 0s - loss: 3.0727e-\n",
      "Epoch 74/100\n",
      "339/339 [==============================] - 7s 20ms/step - loss: 3.4621e-05\n",
      "Epoch 75/100\n",
      "339/339 [==============================] - 6s 19ms/step - loss: 3.8962e-05\n",
      "Epoch 76/100\n",
      "339/339 [==============================] - 7s 21ms/step - loss: 3.6024e-05\n",
      "Epoch 77/100\n",
      "339/339 [==============================] - 7s 22ms/step - loss: 3.6008e-05\n",
      "Epoch 78/100\n",
      "339/339 [==============================] - 8s 22ms/step - loss: 3.7741e-05: 1s - loss: 3. - ETA: 0s - loss\n",
      "Epoch 79/100\n",
      "339/339 [==============================] - 7s 20ms/step - loss: 3.6163e-05\n",
      "Epoch 80/100\n",
      "339/339 [==============================] - 6s 18ms/step - loss: 5.5403e-05\n",
      "Epoch 81/100\n",
      "339/339 [==============================] - 6s 19ms/step - loss: 4.7520e-05\n",
      "Epoch 82/100\n",
      "339/339 [==============================] - 6s 19ms/step - loss: 4.1938e-05\n",
      "Epoch 83/100\n",
      "339/339 [==============================] - 6s 18ms/step - loss: 2.7766e-05\n",
      "Epoch 84/100\n",
      "339/339 [==============================] - 7s 19ms/step - loss: 2.8599e-05\n",
      "Epoch 85/100\n",
      "339/339 [==============================] - 6s 18ms/step - loss: 3.9213e-05\n",
      "Epoch 86/100\n",
      "339/339 [==============================] - 6s 19ms/step - loss: 3.8227e-05\n",
      "Epoch 87/100\n",
      "339/339 [==============================] - 6s 18ms/step - loss: 2.9566e-05\n",
      "Epoch 88/100\n",
      "339/339 [==============================] - 7s 19ms/step - loss: 2.7536e-05\n",
      "Epoch 89/100\n",
      "339/339 [==============================] - 6s 19ms/step - loss: 3.2157e-05\n",
      "Epoch 90/100\n",
      "339/339 [==============================] - 6s 18ms/step - loss: 3.2033e-05: 0s - lo\n",
      "Epoch 91/100\n",
      "339/339 [==============================] - 6s 18ms/step - loss: 2.8288e-05\n",
      "Epoch 92/100\n",
      "339/339 [==============================] - 6s 17ms/step - loss: 2.9537e-05\n",
      "Epoch 93/100\n",
      "339/339 [==============================] - 6s 19ms/step - loss: 3.3983e-05\n",
      "Epoch 94/100\n",
      "339/339 [==============================] - 6s 18ms/step - loss: 3.2838e-05\n",
      "Epoch 95/100\n",
      "339/339 [==============================] - 6s 18ms/step - loss: 3.7182e-05: 0s - los\n",
      "Epoch 96/100\n",
      "339/339 [==============================] - 6s 18ms/step - loss: 2.6361e-05\n",
      "Epoch 97/100\n",
      "339/339 [==============================] - 6s 18ms/step - loss: 2.3789e-05\n",
      "Epoch 98/100\n",
      "339/339 [==============================] - 6s 18ms/step - loss: 3.1655e-05\n",
      "Epoch 99/100\n",
      "339/339 [==============================] - 6s 19ms/step - loss: 4.2876e-05\n",
      "Epoch 100/100\n",
      "339/339 [==============================] - 6s 19ms/step - loss: 4.0321e-05\n"
     ]
    },
    {
     "data": {
      "text/plain": [
       "<keras.callbacks.History at 0x1f4bbec7d00>"
      ]
     },
     "execution_count": 20,
     "metadata": {},
     "output_type": "execute_result"
    }
   ],
   "source": [
    "# create and fit the LSTM network\n",
    "model = Sequential()\n",
    "model.add(LSTM(units=50, return_sequences=False, activation='relu',input_shape=(x_train.shape[1],1)))\n",
    "model.add(Dense(1))\n",
    "\n",
    "model.compile(loss='mean_squared_error', optimizer='adam')\n",
    "model.fit(x_train, y_train, epochs=100, batch_size=8, verbose=1, shuffle=False)\n",
    "\n"
   ]
  },
  {
   "cell_type": "code",
   "execution_count": 21,
   "metadata": {},
   "outputs": [],
   "source": [
    "#predicting 230 values, using past 60 from the train data\n",
    "inputs = new_data[len(new_data) - len(valid) - 60:].values\n",
    "inputs = inputs.reshape(-1,1)\n",
    "inputs  = scaler.transform(inputs)\n",
    "\n",
    "X_test = []\n",
    "for i in range(60,inputs.shape[0]):\n",
    "    X_test.append(inputs[i-60:i,0])\n",
    "X_test = np.array(X_test)\n",
    "\n",
    "X_test = np.reshape(X_test, (X_test.shape[0],X_test.shape[1],1))\n",
    "closing_price = model.predict(X_test)\n",
    "closing_price = scaler.inverse_transform(closing_price)"
   ]
  },
  {
   "cell_type": "code",
   "execution_count": 22,
   "metadata": {},
   "outputs": [
    {
     "data": {
      "text/plain": [
       "2.311242764434514"
      ]
     },
     "execution_count": 22,
     "metadata": {},
     "output_type": "execute_result"
    }
   ],
   "source": [
    "rms=np.sqrt(np.mean(np.power((valid-closing_price),2)))\n",
    "rms"
   ]
  },
  {
   "cell_type": "code",
   "execution_count": 23,
   "metadata": {},
   "outputs": [
    {
     "data": {
      "text/plain": [
       "[<matplotlib.lines.Line2D at 0x1f4c3ad56d0>,\n",
       " <matplotlib.lines.Line2D at 0x1f4c3ad5790>]"
      ]
     },
     "execution_count": 23,
     "metadata": {},
     "output_type": "execute_result"
    },
    {
     "data": {
      "image/png": "[encoded data removed]",
      "text/plain": [
       "<Figure size 432x288 with 1 Axes>"
      ]
     },
     "metadata": {
      "needs_background": "light"
     },
     "output_type": "display_data"
    }
   ],
   "source": [
    "#for plotting\n",
    "train = new_data[:2770]\n",
    "valid = new_data[2770:]\n",
    "valid['Predictions'] = closing_price\n",
    "plt.plot(train['Close'])\n",
    "plt.plot(valid[['Close','Predictions']])"
   ]
  },
  {
   "cell_type": "code",
   "execution_count": null,
   "metadata": {},
   "outputs": [],
   "source": []
  }
 ],
 "metadata": {
  "kernelspec": {
   "display_name": "Python 3 (ipykernel)",
   "language": "python",
   "name": "python3"
  },
  "language_info": {
   "codemirror_mode": {
    "name": "ipython",
    "version": 3
   },
   "file_extension": ".py",
   "mimetype": "text/x-python",
   "name": "python",
   "nbconvert_exporter": "python",
   "pygments_lexer": "ipython3",
   "version": "3.10.9"
  }
 },
 "nbformat": 4,
 "nbformat_minor": 4
}
